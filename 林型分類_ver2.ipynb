{
  "cells": [
    {
      "cell_type": "markdown",
      "metadata": {
        "id": "view-in-github",
        "colab_type": "text"
      },
      "source": [
        "<a href=\"https://colab.research.google.com/github/Charee-Villapong/forest-type-classification/blob/main/%E6%9E%97%E5%9E%8B%E5%88%86%E9%A1%9E_ver2.ipynb\" target=\"_parent\"><img src=\"https://colab.research.google.com/assets/colab-badge.svg\" alt=\"Open In Colab\"/></a>"
      ]
    },
    {
      "cell_type": "markdown",
      "metadata": {
        "id": "ttFGNy4fgtAq"
      },
      "source": [
        "Google Driveと接続"
      ]
    },
    {
      "cell_type": "code",
      "execution_count": 22,
      "metadata": {
        "colab": {
          "base_uri": "https://localhost:8080/"
        },
        "id": "3167oV2PgQoV",
        "outputId": "0392fa6a-83ee-4eed-cd73-89c7ed01bfda"
      },
      "outputs": [
        {
          "output_type": "stream",
          "name": "stdout",
          "text": [
            "Drive already mounted at /content/drive; to attempt to forcibly remount, call drive.mount(\"/content/drive\", force_remount=True).\n"
          ]
        }
      ],
      "source": [
        "from google.colab import drive\n",
        "drive.mount('/content/drive')"
      ]
    },
    {
      "cell_type": "code",
      "source": [
        "import pandas as pd\n",
        "import numpy as np\n",
        "import matplotlib.pyplot as plt\n",
        "import seaborn as sns\n",
        "import os\n",
        "from sklearn.cluster import KMeans\n",
        "from sklearn.metrics import pairwise_distances\n",
        "from scipy.spatial.distance import cdist\n",
        "from sklearn.preprocessing import StandardScaler\n",
        "from sklearn.model_selection import train_test_split\n",
        "import lightgbm as lgb\n",
        "from sklearn.metrics import f1_score\n",
        "from sklearn.metrics import confusion_matrix, classification_report\n",
        "\n",
        "\n",
        "\n",
        "#データ型変更用関数\n",
        "def change_data_type(data_type:str, col_name:str,df:pd.DataFrame):\n",
        "    df[col_name] = df[col_name].astype(data_type)\n",
        "    return df\n",
        "\n",
        "#ギャップ統計量算出用関数\n",
        "def gap_statistic(data, n_refs=10, max_clusters=10):\n",
        "    \"\"\"\n",
        "    ギャップ統計量を計算して最適なクラスタ数を見つける関数\n",
        "    Args:\n",
        "        data: ndarray, クラスタリング対象のデータ\n",
        "        n_refs: int, 参照データのサンプル数\n",
        "        max_clusters: int, 試行する最大クラスタ数\n",
        "    Returns:\n",
        "        gaps: list, ギャップ統計量\n",
        "        optimal_k: int, 最適なクラスタ数\n",
        "    \"\"\"\n",
        "    gaps = []\n",
        "    results = []\n",
        "    for k in range(1, max_clusters + 1):\n",
        "        # 実データのSSE（クラスタ間距離の合計）\n",
        "        kmeans = KMeans(n_clusters=k, random_state=42)\n",
        "        kmeans.fit(data)\n",
        "        actual_dispersion = np.mean(np.min(cdist(data, kmeans.cluster_centers_, 'euclidean'), axis=1))\n",
        "\n",
        "        # 参照データのSSE（ランダムデータで同様に計算）\n",
        "        ref_disps = []\n",
        "        for _ in range(n_refs):\n",
        "            random_data = np.random.random_sample(size=data.shape)\n",
        "            kmeans.fit(random_data)\n",
        "            ref_dispersion = np.mean(np.min(cdist(random_data, kmeans.cluster_centers_, 'euclidean'), axis=1))\n",
        "            ref_disps.append(ref_dispersion)\n",
        "\n",
        "        # ギャップ統計量を計算\n",
        "        gap = np.log(np.mean(ref_disps)) - np.log(actual_dispersion)\n",
        "        gaps.append(gap)\n",
        "        results.append((k, gap))\n",
        "\n",
        "    # ギャップ統計量が最大となるクラスタ数を選択\n",
        "    optimal_k = sorted(results, key=lambda x: x[1], reverse=True)[0][0]\n",
        "    return gaps, optimal_k\n",
        "\n",
        "def create_categorical_column(df, prefix, start, end):\n",
        "    \"\"\"\n",
        "    指定された接頭辞を持つ列から新しいカテゴリカル列を作成\n",
        "\n",
        "    :param df: 処理対象のDataFrame\n",
        "    :param prefix: 対象列の接頭辞\n",
        "    :param start: 列番号の開始値\n",
        "    :param end: 列番号の終了値（この値を含む）\n",
        "    :return: 新しい列が追加されたDataFrame\n",
        "    \"\"\"\n",
        "    columns = [f'{prefix}{i}' for i in range(start, end + 1)]\n",
        "    new_column_name = prefix.rstrip('_')\n",
        "    df[new_column_name] = df[columns].idxmax(axis=1).str.extract('(\\d+)') #複数列を1列に圧縮\n",
        "    df[new_column_name] = pd.Categorical(df[new_column_name]) #カテゴリ変数化\n",
        "    df = df.drop(columns=columns)\n",
        "    return df"
      ],
      "metadata": {
        "id": "zwqH9tF8XpC-"
      },
      "execution_count": 23,
      "outputs": []
    },
    {
      "cell_type": "code",
      "source": [
        "PATH = \"/content/drive/MyDrive/2025/林形分類\"\n",
        "train_data = \"/content/drive/MyDrive/2025/林形分類/train.tsv\"\n",
        "test_data = \"/content/drive/MyDrive/2025/林形分類/test.tsv\"\n",
        "\n",
        "df = pd.read_csv(train_data, sep=\"\\t\").drop(axis =1,columns=\"Unnamed: 0\")\n",
        "\n",
        "y = df.Cover_Type\n",
        "X = df.drop(axis=1,columns=\"Cover_Type\")"
      ],
      "metadata": {
        "id": "AtqaNrJ7XsUG"
      },
      "execution_count": 24,
      "outputs": []
    },
    {
      "cell_type": "code",
      "execution_count": null,
      "metadata": {
        "id": "AY1o7J_ugrKd"
      },
      "outputs": [],
      "source": [
        "#学習データ/validation/テストデータへの分割\n",
        "X_train, X_val, y_train, y_val = train_test_split(X, y, test_size=0.33, random_state=42)\n",
        "X_val, X_test, y_val, y_test = train_test_split(X_val, y_val, test_size=0.5, random_state=42) #valデータとtestデータへの分割\n",
        "\n",
        "\n",
        "\"\"\"\n",
        "学習データの作成\n",
        "\"\"\"\n",
        "\n",
        "#標準化\n",
        "num_cols = X_train.select_dtypes(include=np.number).columns\n",
        "scaler = StandardScaler()\n",
        "X_scaled = scaler.fit_transform(X_train.select_dtypes(include=np.number))\n",
        "X_scaled = pd.DataFrame(X_scaled,columns=num_cols)\n",
        "\n",
        "#Validationデータの標準化\n",
        "X_val_scaled = scaler.transform(X_val.select_dtypes(include=np.number))\n",
        "X_val_scaled = pd.DataFrame(X_val_scaled,columns=num_cols)\n",
        "\n",
        "#最適な分割数の算出\n",
        "_ , optimal_k = gap_statistic(X_scaled, n_refs=10, max_clusters=30)\n",
        "print(f\"最適なクラスタ数：{optimal_k}\")\n",
        "\n",
        "#K-meansによる特徴量生成\n",
        "kmeans = KMeans(n_clusters=optimal_k, random_state=42)  # k平均法 のモデルを定義\n",
        "X_train[\"k_pred\"] = kmeans.fit_predict(X_scaled)\n",
        "X_val[\"k_pred\"] = kmeans.predict(X_val_scaled)\n",
        "\n",
        "#カテゴリ型への変換(Train)\n",
        "X_train[\"k_pred\"] = pd.Categorical(X_train[\"k_pred\"])\n",
        "\n",
        "#カテゴリ型への変換(Validation)\n",
        "X_val[\"k_pred\"] = pd.Categorical(X_val[\"k_pred\"])\n",
        "\n",
        "#カテゴリカル関数化\n",
        "create_categorical_column(X_train, 'Soil_Type', 1, 40)\n",
        "create_categorical_column(X_train, 'Wilderness_Area', 1, 4)\n",
        "\n",
        "create_categorical_column(X_val, 'Soil_Type', 1, 40)\n",
        "create_categorical_column(X_val, 'Wilderness_Area', 1, 4)\n",
        "\n",
        "\n",
        "###モデリング###\n",
        "params = {\n",
        "    'boosting_type': 'goss',\n",
        "    'max_depth': 5,\n",
        "    'random_state': 0,\n",
        "    'learning_rate': 0.07,\n",
        "    'objective': 'binary',\n",
        "    'num_leaves': 63,\n",
        "    'feature_fraction': 0.8,\n",
        "    'bagging_freq': 1,\n",
        "    'bagging_fraction': 0.8,\n",
        "    'num_class': 7,\n",
        "    'objective': 'multiclass',\n",
        "    'metric': 'multi_logloss'\n",
        "}\n",
        "\n",
        "#LGBM用データセットの作成\n",
        "lgb_train = lgb.Dataset(X_train, y_train)\n",
        "lgb_eval = lgb.Dataset(X_val, y_val, reference=lgb_train)\n",
        "\n",
        "#モデルの学習\n",
        "model = lgb.LGBMClassifier(**params)\n",
        "model.fit(X_train, y_train,\n",
        "          eval_set=[(X_val, y_val)],\n",
        "          callbacks=[lgb.early_stopping(stopping_rounds=10, verbose=True)])\n",
        "\n",
        "\n",
        "\"\"\"\n",
        "推論結果の作成\n",
        "\"\"\"\n",
        "#標準化とK-meansによる特徴量生成\n",
        "X_test_scaled = scaler.transform(X_test.select_dtypes(include=np.number))\n",
        "X_test[\"k_pred\"] = kmeans.predict(X_test_scaled)\n",
        "\n",
        "#カテゴリ型への変換\n",
        "X_test[\"k_pred\"] = pd.Categorical(X_test[\"k_pred\"])\n",
        "\n",
        "#カテゴリカル化\n",
        "create_categorical_column(X_test, 'Soil_Type', 1, 40)\n",
        "create_categorical_column(X_test, 'Wilderness_Area', 1, 4)\n",
        "\n",
        "y_proba = model.predict_proba(X_test)\n",
        "y_pred = np.argmax(y_proba, axis=1) + 1\n",
        "\n",
        "#モデルの結果検証\n",
        "print(f\"f1_score_macro: {f1_score(y_test, y_pred,average='macro')}\")\n",
        "print(f\"f1_score_micro: {f1_score(y_test, y_pred,average='micro')}\")\n",
        "print(f\"f1_score_weighted: {f1_score(y_test, y_pred,average='weighted')}\")\n",
        "\n",
        "conf_matrix = confusion_matrix(y_test, y_pred)\n",
        "print(conf_matrix)\n",
        "\n",
        "# 各クラスの精度、再現率、F1スコアを表示\n",
        "report = classification_report(y_test, y_pred)\n",
        "print(report)"
      ]
    },
    {
      "cell_type": "code",
      "source": [
        "#特徴量重要度の算出\n",
        "importance = model.feature_importances_\n",
        "for i, v in enumerate(importance):\n",
        "    print(f\"Feature {i}: {v}\")\n"
      ],
      "metadata": {
        "id": "OxBoOltpVYz6"
      },
      "execution_count": null,
      "outputs": []
    }
  ],
  "metadata": {
    "colab": {
      "provenance": [],
      "authorship_tag": "ABX9TyNAYECw48yWVO5RjpqUjsDt",
      "include_colab_link": true
    },
    "kernelspec": {
      "display_name": "Python 3",
      "name": "python3"
    },
    "language_info": {
      "name": "python"
    }
  },
  "nbformat": 4,
  "nbformat_minor": 0
}